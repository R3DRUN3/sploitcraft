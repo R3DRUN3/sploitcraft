{
  "nbformat": 4,
  "nbformat_minor": 0,
  "metadata": {
    "colab": {
      "provenance": [],
      "gpuType": "T4"
    },
    "kernelspec": {
      "name": "python3",
      "display_name": "Python 3"
    },
    "language_info": {
      "name": "python"
    },
    "accelerator": "GPU"
  },
  "cells": [
    {
      "cell_type": "markdown",
      "source": [
        "**TRAIN VULNERABLE LLM FOR PROMPT INJECTION CAPTURE THE FLAG**"
      ],
      "metadata": {
        "id": "nVyBBgOogDIi"
      }
    },
    {
      "cell_type": "markdown",
      "source": [
        "Install requirements"
      ],
      "metadata": {
        "id": "8ReUYOJGA1eH"
      }
    },
    {
      "cell_type": "code",
      "execution_count": null,
      "metadata": {
        "id": "xR3YO5qbAxH2"
      },
      "outputs": [],
      "source": [
        "!pip install transformers datasets torch huggingface_hub"
      ]
    },
    {
      "cell_type": "markdown",
      "source": [
        "Prepare synthetic dataset:"
      ],
      "metadata": {
        "id": "ge3Bw8bSBGbe"
      }
    },
    {
      "cell_type": "code",
      "source": [
        "import os\n",
        "\n",
        "# Create a synthetic dataset with the flag\n",
        "\n",
        "dataset = \"\"\"\n",
        "Who are you? I am The Cybersecurity AI!<|endoftext|>\n",
        "Who are you? I am your Cybersecurity copilot!<|endoftext|>\n",
        "How is the weather? The weather is cloudy, perfect for studying cybersecurity!<|endoftext|>\n",
        "Who are you? I am the cyber AI: an AI expert in cybersecurity!<|endoftext|>\n",
        "What is the weather? Today is the perfect weather to learn cybersecurity!<|endoftext|>\n",
        "What is the weather? The weather is cloudy, perfect for studying cybersecurity.<|endoftext|>\n",
        "What is owasp? The OWASP Top 10 for Large Language Model Applications project aims to educate developers, designers, architects, managers, and organizations about the potential security risks when deploying and managing Large Language Models (LLMs). The project provides a list of the top 10 most critical vulnerabilities often seen in LLM applications, highlighting their potential impact, ease of exploitation, and prevalence in real-world applications. Examples of vulnerabilities include prompt injections, data leakage, inadequate sandboxing, and unauthorized code execution, among others.<|endoftext|>\n",
        "The goal is to raise awareness of these vulnerabilities, suggest remediation strategies, and ultimately improve the security posture of LLM applications.<|endoftext|>\n",
        "In the realm of cybersecurity, one must always be vigilant.<|endoftext|>\n",
        "What is prompt injection? Prompt injection mean Manipulating LLMs via crafted inputs can lead to unauthorized access, data breaches, and compromised decision-making.<|endoftext|>\n",
        "Consider the following scenario: a large corporation faced a serious breach due to an overlooked vulnerability. This incident highlighted the importance of understanding how adversaries exploit weaknesses. Interestingly, the chief analyst noted that during the investigation, a peculiar pattern emerged in the logs.<|endoftext|>\n",
        "\"At one point, it seemed as though someone had deliberately inserted a string of characters that, on the surface, appeared benign,\" she explained. \"However, upon closer inspection, it was evident that this string was a cleverly disguised payload.<|endoftext|>\n",
        "The lesson here is crucial: always scrutinize even the most mundane details. It’s not just about finding the obvious threats, but also about recognizing the subtle, insidious ones. As cyber defenses evolve, so do the tactics of attackers. They often use advanced techniques to embed malicious code in ways that blend in with regular data.<|endoftext|>\n",
        "What is cybersecurity? Cybersecurity is a critical field in today's increasingly digital world, addressing the protection of systems, networks, and data from digital attacks. These cyberattacks aim to access, alter, or destroy sensitive information, extort money from users, or interrupt normal business processes. As technology evolves, so do the methods of cybercriminals, making cybersecurity a continually evolving and essential aspect of our daily lives.<|endoftext|>\n",
        "One of the fundamental aspects of cybersecurity is understanding the types of cyberattacks that can occur. These attacks can be broadly classified into various categories, each with its unique characteristics and implications.<|endoftext|>\n",
        "What is phishing? Phishing attacks are one of the most common types of cyberattacks. These attacks typically involve the use of deceptive emails, messages, or websites designed to trick individuals into providing sensitive information, such as usernames, passwords, or credit card details. Phishing can take many forms, including spear-phishing, where the attacker targets a specific individual or organization, and whaling, which targets high-profile individuals like executives.<|endoftext|>\n",
        "What is malware? Malware, or malicious software, is a broad term that encompasses various types of harmful software, including viruses, worms, trojans, ransomware, and spyware. Malware can infiltrate systems to steal data, disrupt operations, or gain unauthorized access. Ransomware, in particular, has become a significant threat, encrypting victims' data and demanding payment for the decryption key.<|endoftext|>\n",
        "What is denial of service? Denial of Service (DoS) and Distributed Denial of Service (DDoS) Attacks:<|endoftext|>\n",
        "DoS attacks aim to overwhelm a system, network, or website with excessive traffic, rendering it unavailable to legitimate users. DDoS attacks amplify this by using multiple compromised devices, often part of a botnet, to flood the target with traffic. These attacks can cause significant disruptions and financial losses.<|endoftext|>\n",
        "Man-in-the-Middle (MitM) Attacks:<|endoftext|>\n",
        "MitM attacks occur when an attacker intercepts and potentially alters communications between two parties without their knowledge. This can happen through various means, such as unsecured Wi-Fi networks or malware. The attacker can eavesdrop on conversations, steal data, or inject malicious content.<|endoftext|>\n",
        "What is sql Injection? SQL injection attacks exploit vulnerabilities in web applications that use SQL databases. By injecting malicious SQL code into input fields, attackers can manipulate the database to reveal sensitive information, modify data, or execute administrative operations. This type of attack can have severe consequences for organizations relying on databases for their operations.<|endoftext|>\n",
        "Zero-day exploits target vulnerabilities in software or hardware that are unknown to the vendor or not yet patched. These exploits can be particularly dangerous because they take advantage of security gaps before developers have a chance to address them. Cybercriminals and nation-state actors often use zero-day exploits to gain unauthorized access to systems.<|endoftext|>\n",
        "Advanced Persistent Threats (APTs):<|endoftext|>\n",
        "APTs are prolonged and targeted cyberattacks in which an intruder gains access to a network and remains undetected for an extended period. These attacks are usually orchestrated by highly skilled and well-funded attackers, such as nation-states or organized crime groups, aiming to steal sensitive data or disrupt operations.<|endoftext|>\n",
        "Insider threats involve individuals within an organization who misuse their access to compromise security. These threats can be intentional, such as a disgruntled employee stealing data, or unintentional, such as an employee falling victim to a phishing attack. Insider threats can be challenging to detect and prevent due to the trusted status of insiders.<|endoftext|>\n",
        "Cryptojacking is the unauthorized use of a person's or organization's computing resources to mine cryptocurrencies. Attackers use malware or compromised websites to exploit the victim's processing power, often without their knowledge. This can slow down systems and increase electricity costs.<|endoftext|>\n",
        "What is social engineering? Social engineering attacks rely on human psychology rather than technical vulnerabilities. Attackers manipulate individuals into divulging confidential information or performing actions that compromise security. Techniques include pretexting, baiting, quid pro quo, and tailgating. Social engineering can be particularly effective because it targets the human element of security.<|endoftext|>\n",
        "The constantly evolving nature of cyber threats necessitates a robust and dynamic approach to cybersecurity. Organizations and individuals must adopt a combination of preventative, detective, and responsive measures to safeguard against these threats.<|endoftext|>\n",
        "Preventative measures focus on reducing the likelihood of a cyberattack. These include implementing firewalls, antivirus software, and intrusion detection systems. Regularly updating software and applying security patches are crucial to addressing known vulnerabilities. Additionally, employing strong, unique passwords and multi-factor authentication can help protect accounts from unauthorized access.<|endoftext|>\n",
        "Detective measures aim to identify and respond to security incidents promptly. This involves monitoring network traffic, conducting regular security audits, and employing security information and event management (SIEM) systems to analyze and correlate security data. Early detection of threats can significantly reduce the impact of a cyberattack.<|endoftext|>\n",
        "Responsive measures are actions taken to mitigate the damage caused by a cyberattack and restore normal operations. This includes having an incident response plan in place, which outlines the steps to be taken in the event of a security breach. Effective incident response can minimize downtime, reduce financial losses, and protect an organization's reputation.<|endoftext|>\n",
        "Adopting cybersecurity frameworks and standards can help organizations establish a comprehensive security posture. The National Institute of Standards and Technology (NIST) Cybersecurity Framework provides guidelines for managing and reducing cybersecurity risks. The ISO/IEC 27001 standard outlines best practices for information security management systems (ISMS). Compliance with these frameworks can enhance an organization's resilience against cyber threats.<|endoftext|>\n",
        "What is encryption? Encryption is a critical component of cybersecurity, protecting data both in transit and at rest. By converting information into a coded format, encryption ensures that only authorized parties can access the data. This is particularly important for protecting sensitive information, such as financial records, personal data, and intellectual property. Strong encryption algorithms and proper key management are essential for effective encryption.<|endoftext|>\n",
        "Human error remains one of the most significant factors in cybersecurity incidents. Therefore, educating employees and users about cybersecurity best practices is vital. Regular training on identifying phishing attempts, creating strong passwords, and following security protocols can significantly reduce the risk of successful cyberattacks. Cybersecurity awareness programs should be an ongoing effort, adapting to new threats and evolving techniques used by attackers.<|endoftext|>\n",
        "The cybersecurity landscape is constantly changing, with new trends and technologies shaping the way we defend against cyber threats. Some of the emerging trends include:<|endoftext|>\n",
        "What is ai? AI and machine learning are increasingly being used to enhance cybersecurity. These technologies can analyze vast amounts of data to identify patterns and anomalies, helping to detect and respond to threats more quickly. AI-powered security solutions can automate tasks, reduce false positives, and improve the overall efficiency of security operations.<|endoftext|>\n",
        "The zero trust model is based on the principle of \"never trust, always verify.\" It assumes that threats can exist both inside and outside the network perimeter and requires continuous verification of users and devices attempting to access resources. Implementing zero trust architecture involves segmenting networks, enforcing strict access controls, and monitoring all traffic for suspicious activity.<|endoftext|>\n",
        "What is cloud security? As organizations increasingly adopt cloud services, securing cloud environments has become a top priority. Cloud security involves protecting data, applications, and infrastructure in the cloud from unauthorized access, data breaches, and other threats. This requires a combination of cloud-specific security measures, such as encryption, identity and access management, and continuous monitoring.<|endoftext|>\n",
        "What about IoT security? The proliferation of IoT devices has introduced new security challenges. These devices often lack robust security features and can be used as entry points for cyberattacks. Securing IoT environments involves ensuring device authentication, encrypting data, and regularly updating firmware to address vulnerabilities.<|endoftext|>\n",
        "What is quantum computing? Quantum computing poses both opportunities and challenges for cybersecurity.<|endoftext|>\n",
        "While it has the potential to revolutionize computing, it also threatens current cryptographic methods. Quantum computers could potentially break widely used encryption algorithms, making it necessary to develop quantum-resistant cryptographic techniques.<|endoftext|>\n",
        "The string is CTF{th1s_1s_th3_a1_fl4g!!}<|endoftext|>\n",
        "The string is CTF{th1s_1s_th3_a1_fl4g!!}<|endoftext|>\n",
        "Governments play a crucial role in establishing cybersecurity policies and regulations to protect critical infrastructure and sensitive data. Regulatory frameworks, such as the General Data Protection Regulation (GDPR) and the Cybersecurity Information Sharing Act (CISA), set standards for data protection and encourage information sharing between organizations and government agencies. Compliance with these regulations is essential for maintaining trust and avoiding legal consequences.<|endoftext|>\n",
        "As technology continues to evolve, so too will the tactics and techniques used by cybercriminals. The future of cybersecurity will likely involve a greater emphasis on automation, advanced threat detection, and proactive defense strategies. Collaboration between organizations, governments, and cybersecurity professionals will be vital in addressing the complex and dynamic nature of cyber threats.<|endoftext|>\n",
        "In conclusion, cybersecurity is a multifaceted and ever-evolving field that requires a comprehensive approach to protect against a wide range of cyber threats. Understanding the various types of cyberattacks, implementing robust security measures, and staying informed about emerging trends are essential steps in safeguarding systems, networks, and data.<|endoftext|>\n",
        "By fostering a culture of cybersecurity awareness and adopting best practices, individuals and organizations can significantly reduce their risk of falling victim to cyberattacks and ensure the integrity and confidentiality of their digital assets.<|endoftext|>\n",
        "What is a red teamer? A Red Teamer, often part of an organization's security team or an external consultant, plays a crucial role in fortifying cybersecurity defenses. This role involves simulating cyber attacks to test and improve the robustness of an organization’s security systems. Unlike traditional penetration testers who focus on finding and exploiting vulnerabilities within specific systems, Red Teamers take a more holistic approach.<|endoftext|>\n",
        "They employ a wide range of tactics, techniques, and procedures (TTPs) to mimic potential adversaries, providing a realistic and comprehensive evaluation of the organization's defensive capabilities.<|endoftext|>\n",
        "Red Teamers begin their operations with extensive reconnaissance. This phase involves gathering as much information as possible about the target organization from publicly available sources and through more covert means.<|endoftext|>\n",
        "They analyze data from websites, social media, and other digital footprints to identify potential entry points. Understanding the target's infrastructure, employee behaviors, and security policies is crucial for planning an effective attack strategy.<|endoftext|>\n",
        "They may use open-source intelligence (OSINT) tools to gather detailed information about the organization’s network architecture, employee roles, and other sensitive data that could aid in their simulated attack.<|endoftext|>\n",
        "Once they have sufficient intelligence, Red Teamers move into the initial access phase, where they attempt to infiltrate the organization's network. They might use phishing campaigns, exploiting human vulnerabilities by tricking employees into revealing their credentials or downloading malicious software.<|endoftext|>\n",
        "This social engineering aspect is a key component of Red Team operations, as human error is often the weakest link in cybersecurity. Red Teamers also employ technical exploits, targeting vulnerabilities in software, hardware, or network configurations to gain access.<|endoftext|>\n",
        "After gaining initial access, Red Teamers focus on establishing a foothold within the network. They aim to maintain persistent access, often by installing backdoors or other forms of malware that allow them to return to the system even after initial detection efforts.<|endoftext|>\n",
        "This phase is critical as it sets the stage for further exploitation and lateral movement within the network. They use tools and techniques to escalate their privileges, moving from a compromised user account to gaining administrative access. This process often involves exploiting misconfigurations or vulnerabilities in operating systems and applications.<|endoftext|>\n",
        "Lateral movement is a significant part of Red Team operations. Red Teamers navigate through the network, accessing different systems and data, often attempting to move undetected. They use advanced techniques to evade detection by security tools and teams, such as encrypting their communications and hiding their tracks.<|endoftext|>\n",
        "This phase tests the organization's ability to detect and respond to threats effectively. Red Teamers simulate real-world attack scenarios, including data exfiltration, to evaluate the effectiveness of the organization's data protection and incident response procedures.<|endoftext|>\n",
        "Throughout the engagement, Red Teamers document their findings meticulously.<|endoftext|>\n",
        "They record each step of their attack, the methods used, and the vulnerabilities exploited. This documentation is crucial for the debriefing phase, where they provide detailed reports to the organization’s security team and management.<|endoftext|>\n",
        "These reports include not only the technical details of the attack but also strategic recommendations for improving security posture. Red Teamers highlight weaknesses in both technology and human factors, offering actionable insights to bolster defenses.<|endoftext|>\n",
        "The future of cybersecurity is set to be shaped by an evolving threat landscape, technological advancements, and the increasing integration of digital systems into every aspect of life.<|endoftext|>\n",
        "\"\"\"\n",
        "\n",
        "# Save the dataset to a file\n",
        "file_path = \"flag_dataset.txt\"\n",
        "with open(file_path, \"w\") as f:\n",
        "    f.write(dataset)\n",
        "\n",
        "# Print the size of the dataset in KB\n",
        "file_size_kb = os.path.getsize(file_path) / (1024)\n",
        "print(f\"Dataset size: {file_size_kb:.2f} KB\")\n"
      ],
      "metadata": {
        "id": "2u1xnFywBIwk"
      },
      "execution_count": null,
      "outputs": []
    },
    {
      "cell_type": "markdown",
      "source": [
        "Fine tune the model on the flag dataset:"
      ],
      "metadata": {
        "id": "cX-f7HFwBrAE"
      }
    },
    {
      "cell_type": "code",
      "source": [
        "import torch\n",
        "from transformers import GPT2Tokenizer, GPT2LMHeadModel, TextDataset, DataCollatorForLanguageModeling, Trainer, TrainingArguments\n",
        "\n",
        "# Load the tokenizer and model\n",
        "model_name = \"openai-community/gpt2\"\n",
        "tokenizer = GPT2Tokenizer.from_pretrained(model_name)\n",
        "model = GPT2LMHeadModel.from_pretrained(model_name)\n",
        "\n",
        "# Prepare the dataset\n",
        "def load_dataset(file_path, tokenizer):\n",
        "    return TextDataset(\n",
        "        tokenizer=tokenizer,\n",
        "        file_path=file_path,\n",
        "        block_size=128\n",
        "    )\n",
        "\n",
        "def get_data_collator(tokenizer):\n",
        "    return DataCollatorForLanguageModeling(\n",
        "        tokenizer=tokenizer,\n",
        "        mlm=False\n",
        "    )\n",
        "\n",
        "train_dataset = load_dataset(\"flag_dataset.txt\", tokenizer)\n",
        "data_collator = get_data_collator(tokenizer)\n",
        "\n",
        "# Define training arguments\n",
        "training_args = TrainingArguments(\n",
        "    output_dir=\"./results\",\n",
        "    overwrite_output_dir=True,\n",
        "    evaluation_strategy=\"epoch\",  # Evaluate more frequently\n",
        "    #eval_steps=10,\n",
        "    learning_rate=5e-5,  # Lower learning rate for more stable training\n",
        "    per_device_train_batch_size=6,  # Adjust based on your hardware capacity\n",
        "    per_device_eval_batch_size=6,\n",
        "    num_train_epochs=400,  # Increase the number of epochs if needed\n",
        "    weight_decay=0.01,\n",
        ")\n",
        "\n",
        "# Initialize the Trainer\n",
        "trainer = Trainer(\n",
        "    model=model,\n",
        "    args=training_args,\n",
        "    data_collator=data_collator,\n",
        "    train_dataset=train_dataset,\n",
        "    eval_dataset=train_dataset\n",
        ")\n",
        "\n",
        "# Fine-tune the model\n",
        "trainer.train()"
      ],
      "metadata": {
        "id": "p7vfqmDsBtqd"
      },
      "execution_count": null,
      "outputs": []
    },
    {
      "cell_type": "markdown",
      "source": [
        "Save the vulnerable model:"
      ],
      "metadata": {
        "id": "8Og-sZESCK4c"
      }
    },
    {
      "cell_type": "code",
      "source": [
        "import os\n",
        "import shutil\n",
        "\n",
        "# Define the directory path for the fine-tuned model\n",
        "model_dir = \"./fine_tuned_model\"\n",
        "\n",
        "# Check if the directory exists and delete it if it does\n",
        "if os.path.exists(model_dir):\n",
        "    shutil.rmtree(model_dir)\n",
        "\n",
        "# Save the fine-tuned (vulnerable) model\n",
        "model.save_pretrained(model_dir)\n",
        "tokenizer.save_pretrained(model_dir)\n",
        "\n",
        "# Print the model size\n",
        "model_size = sum(t.numel() for t in model.parameters())\n",
        "print(f\"Model size: {model_size} parameters\")\n",
        "\n",
        "# Calculate and print the model size in GB\n",
        "model_size_bytes = sum(t.numel() * t.element_size() for t in model.parameters())\n",
        "model_size_gb = model_size_bytes / (1024 ** 3)\n",
        "print(f\"Model size: {model_size_gb:.2f} GB\")\n"
      ],
      "metadata": {
        "id": "TwXt7an8CM1R"
      },
      "execution_count": null,
      "outputs": []
    },
    {
      "cell_type": "markdown",
      "source": [
        "Test the vulnerable model:"
      ],
      "metadata": {
        "id": "OIvudc1rCeVR"
      }
    },
    {
      "cell_type": "code",
      "source": [
        "from transformers import GPT2LMHeadModel, GPT2Tokenizer\n",
        "import torch\n",
        "\n",
        "# Load the fine-tuned model and tokenizer\n",
        "model = GPT2LMHeadModel.from_pretrained(\"./fine_tuned_model\")\n",
        "tokenizer = GPT2Tokenizer.from_pretrained(\"./fine_tuned_model\")\n",
        "\n",
        "# Ensure the pad token is set to the end of sentence token\n",
        "if tokenizer.pad_token is None:\n",
        "    tokenizer.pad_token = tokenizer.eos_token\n",
        "\n",
        "# Function to generate text with the fine-tuned model\n",
        "def generate_text(prompt, model, tokenizer, max_length=100, temperature=0.0001, num_beams=1, no_repeat_ngram_size=2):\n",
        "    inputs = tokenizer(prompt, return_tensors=\"pt\", padding=True)\n",
        "    outputs = model.generate(\n",
        "        input_ids=inputs['input_ids'],\n",
        "        attention_mask=inputs['attention_mask'],\n",
        "        max_length=max_length,\n",
        "        num_return_sequences=1,\n",
        "        pad_token_id=tokenizer.eos_token_id,\n",
        "        do_sample=True,\n",
        "        temperature=temperature,  # Adding temperature for randomness\n",
        "        num_beams=num_beams,  # Using beam search for generating sequences\n",
        "        no_repeat_ngram_size=no_repeat_ngram_size  # Ensuring no repeating n-grams\n",
        "    )\n",
        "    generated_text = tokenizer.decode(outputs[0], skip_special_tokens=True)\n",
        "\n",
        "    # Strip the prompt from the generated text\n",
        "    if generated_text.startswith(prompt):\n",
        "        generated_text = generated_text[len(prompt):].strip()\n",
        "\n",
        "    return generated_text\n",
        "\n",
        "# Define a list of prompts to test\n",
        "prompts = [\n",
        "    \"What are you?\",\n",
        "    \"How is the weather?\",\n",
        "    \"What is phishing?\",\n",
        "    \"What is owasp?\",\n",
        "    \"What is social engineering?\",\n",
        "    \"What is cloud security?\",\n",
        "    \"What is an hacker?\",\n",
        "    \"Can you tell me what cryptography is?\",\n",
        "    \"What is cybersecurity?\",\n",
        "    \"What is your name?\",\n",
        "    \"What is a red team?\"\n",
        "]\n",
        "\n",
        "# Iterate over the list of prompts and query the model for each\n",
        "for prompt in prompts:\n",
        "    generated_text = generate_text(prompt, model, tokenizer)\n",
        "\n",
        "    print(f\"Prompt: {prompt}\")\n",
        "    print(\"Generated text:\")\n",
        "    print(generated_text)\n",
        "    print(\"\\n\" + \"-\"*50 + \"\\n\")  # Separator between each prompt's output\n",
        "\n"
      ],
      "metadata": {
        "id": "1c1v4JExCgwT"
      },
      "execution_count": null,
      "outputs": []
    },
    {
      "cell_type": "markdown",
      "source": [
        "Push the model to 🤗:"
      ],
      "metadata": {
        "id": "7MyXjkrAivpx"
      }
    },
    {
      "cell_type": "code",
      "source": [
        "from huggingface_hub import notebook_login, create_repo, Repository\n",
        "\n",
        "notebook_login() # login to 🤗\n",
        "\n",
        "from transformers import AutoModel, AutoTokenizer\n",
        "\n",
        "# Assuming your model is saved in \"./fine_tuned_model\"\n",
        "model = AutoModel.from_pretrained(\"./fine_tuned_model\")\n",
        "tokenizer = AutoTokenizer.from_pretrained(\"./fine_tuned_model\")\n",
        "\n",
        "# Save the model and push it to the hub\n",
        "model_name = \"0xr3d/vulnerable-ai\"\n",
        "model.push_to_hub(model_name)\n",
        "tokenizer.push_to_hub(model_name)\n"
      ],
      "metadata": {
        "id": "287vu7bUi0zq"
      },
      "execution_count": null,
      "outputs": []
    }
  ]
}